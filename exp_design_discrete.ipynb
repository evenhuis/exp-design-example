{
 "cells": [
  {
   "cell_type": "markdown",
   "metadata": {},
   "source": [
    "# Experimental design: classifying cells"
   ]
  },
  {
   "cell_type": "markdown",
   "metadata": {},
   "source": [
    "In this type of experiment fluorescently labelled cells are classfied as positive or negative depending on the their intentity.\n",
    "The key variables in the experiement are\n",
    "* `ncell_av`     : The average number of cells in a Field of View (FoV). This is determined by the concentration of cells and the magnification\n",
    "* `pr_control`   : The probability of cells in the control  fluoresing enough to coutn as positve\n",
    "* `pr_treatment` : The probability of cells in the treatment fluoresing enough to coutn as positve\n"
   ]
  },
  {
   "cell_type": "code",
   "execution_count": 1,
   "metadata": {
    "collapsed": true
   },
   "outputs": [],
   "source": [
    "%matplotlib inline\n",
    "import matplotlib\n",
    "import numpy as np\n",
    "import pandas as pd\n",
    "import matplotlib.pyplot as plt\n",
    "import seaborn as sns\n",
    "from scipy import stats\n",
    "import matplotlib as mpl\n",
    "from helper_functions import *"
   ]
  },
  {
   "cell_type": "markdown",
   "metadata": {},
   "source": [
    "As in the previous example, we are going to create a function that creates 'fake' data so we can simulate the experiment."
   ]
  },
  {
   "cell_type": "code",
   "execution_count": 2,
   "metadata": {
    "collapsed": true
   },
   "outputs": [],
   "source": [
    "def gen_fake_data(ncell_av=20,pr_pos=0.5):\n",
    "    pr_neg=1-pr_pos\n",
    "    ncellp = stats.poisson.rvs(pr_pos*ncell_av)\n",
    "    ncelln = stats.poisson.rvs(pr_neg*ncell_av)\n",
    "    return [ncellp,ncelln]\n",
    "\n",
    "def gen_data(ncell_av,pc,pt,nimg=50):\n",
    "    ind = range(nimg)\n",
    "    cont=np.array([gen_fake_data(ncell_av=ncell_av,pr_pos=pc) for i in ind])\n",
    "    dfc = pd.DataFrame()\n",
    "    dfc['pos']=cont[:,0]\n",
    "    dfc['neg']=cont[:,1]\n",
    "    dfc['code']=\"C\"\n",
    "\n",
    "    treat=np.array([gen_fake_data(ncell_av=ncell_av,pr_pos=pt) for i in ind])\n",
    "    dft = pd.DataFrame()\n",
    "    dft['pos']=treat[:,0]\n",
    "    dft['neg']=treat[:,1]\n",
    "    dft['code']=\"T\"\n",
    "\n",
    "    df = pd.concat( [dfc,dft], ignore_index=True)\n",
    "    return df"
   ]
  },
  {
   "cell_type": "markdown",
   "metadata": {},
   "source": [
    "Here some helper plots to view the outcome of the experiment"
   ]
  },
  {
   "cell_type": "code",
   "execution_count": 3,
   "metadata": {
    "collapsed": false
   },
   "outputs": [
    {
     "data": {
      "text/html": [
       "<div>\n",
       "<style scoped>\n",
       "    .dataframe tbody tr th:only-of-type {\n",
       "        vertical-align: middle;\n",
       "    }\n",
       "\n",
       "    .dataframe tbody tr th {\n",
       "        vertical-align: top;\n",
       "    }\n",
       "\n",
       "    .dataframe thead th {\n",
       "        text-align: right;\n",
       "    }\n",
       "</style>\n",
       "<table border=\"1\" class=\"dataframe\">\n",
       "  <thead>\n",
       "    <tr style=\"text-align: right;\">\n",
       "      <th></th>\n",
       "      <th>pos</th>\n",
       "      <th>neg</th>\n",
       "      <th>code</th>\n",
       "    </tr>\n",
       "  </thead>\n",
       "  <tbody>\n",
       "    <tr>\n",
       "      <th>0</th>\n",
       "      <td>0</td>\n",
       "      <td>12</td>\n",
       "      <td>C</td>\n",
       "    </tr>\n",
       "    <tr>\n",
       "      <th>1</th>\n",
       "      <td>2</td>\n",
       "      <td>12</td>\n",
       "      <td>C</td>\n",
       "    </tr>\n",
       "    <tr>\n",
       "      <th>2</th>\n",
       "      <td>1</td>\n",
       "      <td>11</td>\n",
       "      <td>C</td>\n",
       "    </tr>\n",
       "    <tr>\n",
       "      <th>3</th>\n",
       "      <td>0</td>\n",
       "      <td>7</td>\n",
       "      <td>C</td>\n",
       "    </tr>\n",
       "    <tr>\n",
       "      <th>4</th>\n",
       "      <td>0</td>\n",
       "      <td>5</td>\n",
       "      <td>C</td>\n",
       "    </tr>\n",
       "  </tbody>\n",
       "</table>\n",
       "</div>"
      ],
      "text/plain": [
       "   pos  neg code\n",
       "0    0   12    C\n",
       "1    2   12    C\n",
       "2    1   11    C\n",
       "3    0    7    C\n",
       "4    0    5    C"
      ]
     },
     "execution_count": 3,
     "metadata": {},
     "output_type": "execute_result"
    }
   ],
   "source": [
    "ncell_av     = 10\n",
    "pr_control   = 0.05\n",
    "pr_treatment = 0.50\n",
    "df = gen_data(ncell_av,pr_control,pr_treatment)\n",
    "df.head()"
   ]
  },
  {
   "cell_type": "code",
   "execution_count": 5,
   "metadata": {
    "collapsed": false
   },
   "outputs": [
    {
     "data": {
      "image/png": "[encoded data removed]",
      "text/plain": [
       "<Figure size 504x720 with 2 Axes>"
      ]
     },
     "metadata": {},
     "output_type": "display_data"
    }
   ],
   "source": [
    "ncell_av     = 10\n",
    "pr_control   = 0.05\n",
    "pr_treatment = 0.50\n",
    "df = gen_data(ncell_av,pr_control,pr_treatment)\n",
    "\n",
    "fig,axs=plt.subplots(2,1,sharex=True,sharey=True,figsize=(7,10))\n",
    "plot_bar_comp(df,axs)\n",
    "plt.suptitle(\"{:.1f} cells per FoV\\nPr(cont)={:4.1f}  Pr(treat)={:4.1f}\".format(ncell_av,pr_control,pr_treatment), fontsize=18 );"
   ]
  },
  {
   "cell_type": "code",
   "execution_count": 6,
   "metadata": {
    "collapsed": false
   },
   "outputs": [
    {
     "name": "stdout",
     "output_type": "stream",
     "text": [
      "      pos  neg\n",
      "code          \n",
      "C      33  447\n",
      "T     269  258\n"
     ]
    }
   ],
   "source": [
    "tab=df.groupby(['code']).sum()\n",
    "print(tab)"
   ]
  },
  {
   "cell_type": "code",
   "execution_count": 7,
   "metadata": {
    "collapsed": false
   },
   "outputs": [
    {
     "data": {
      "text/plain": [
       "8.42945988810212e-58"
      ]
     },
     "execution_count": 7,
     "metadata": {},
     "output_type": "execute_result"
    }
   ],
   "source": [
    "outp=stats.fisher_exact(np.array(tab))\n",
    "outp[1]"
   ]
  },
  {
   "cell_type": "code",
   "execution_count": 16,
   "metadata": {
    "collapsed": false
   },
   "outputs": [],
   "source": [
    "ncell_av     = 3\n",
    "pr_control   = 0.05\n",
    "pr_treatment = 0.25\n",
    "nimgs=np.array([5,10,15,20,25])\n",
    "nrep=100\n",
    "\n",
    "pvals = np.zeros([len(nimgs),nrep,2])\n",
    "for j,nimg in enumerate(nimgs):\n",
    "    for i in range(nrep):\n",
    "        df = gen_data(ncell_av ,pr_control,pr_treatment,nimg=nimg)\n",
    "        pvals[j,i,0]=nimg\n",
    "        tab = df.groupby(['code']).sum()\n",
    "        pvals[j,i,1]=stats.fisher_exact(np.array(tab))[1]\n",
    "#pvals = pvals.reshape([-1,2])"
   ]
  },
  {
   "cell_type": "code",
   "execution_count": 17,
   "metadata": {
    "collapsed": false
   },
   "outputs": [
    {
     "data": {
      "image/png": "[encoded data removed]",
      "text/plain": [
       "<Figure size 360x360 with 2 Axes>"
      ]
     },
     "metadata": {},
     "output_type": "display_data"
    }
   ],
   "source": [
    "fig,ax = plt.subplots(figsize=(5,5))\n",
    "plot_pval(pvals,ax)\n",
    "ax.set_xlabel(\"Number of FoV's\");"
   ]
  }
 ],
 "metadata": {
  "kernelspec": {
   "display_name": "Python [default]",
   "language": "python",
   "name": "python3"
  },
  "language_info": {
   "codemirror_mode": {
    "name": "ipython",
    "version": 3
   },
   "file_extension": ".py",
   "mimetype": "text/x-python",
   "name": "python",
   "nbconvert_exporter": "python",
   "pygments_lexer": "ipython3",
   "version": "3.5.2"
  }
 },
 "nbformat": 4,
 "nbformat_minor": 1
}
