{
 "cells": [
  {
   "cell_type": "code",
   "execution_count": 1,
   "metadata": {},
   "outputs": [],
   "source": [
    "%matplotlib inline\n",
    "import matplotlib.pyplot as plt\n",
    "import numpy as np\n",
    "import seaborn as sns\n",
    "from ipywidgets import interact, interactive, fixed, interact_manual\n",
    "import ipywidgets as widgets\n"
   ]
  },
  {
   "cell_type": "code",
   "execution_count": 2,
   "metadata": {},
   "outputs": [
    {
     "data": {
      "image/png": "[encoded data removed]",
      "text/plain": [
       "<Figure size 432x288 with 1 Axes>"
      ]
     },
     "metadata": {},
     "output_type": "display_data"
    }
   ],
   "source": [
    "def find_nearest(array, value):\n",
    "    array = np.asarray(array)\n",
    "    idx = (np.abs(array - value)).argmin()\n",
    "    return array[idx]\n",
    "def tri(x,x0,d):\n",
    "    return np.maximum(np.zeros_like(x),(d-np.abs(x-x0))/(d)**2)\n",
    "def stackit( arr ):\n",
    "    N = len(arr)\n",
    "    vsort=np.sort(arr)\n",
    "    diff=4*np.average(np.array(vsort[1:]-vsort[:-1]))\n",
    "    x = np.linspace(min(arr),max(arr),2001)\n",
    "    height = np.zeros(len(x))\n",
    "    disp=  np.zeros(len(arr)) \n",
    "    #stdev=np.std(arr)\n",
    "    for i,v in enumerate(arr):\n",
    "        ix = (np.abs(x - v)).argmin()\n",
    "        disp[i] = height[ix]\n",
    "        #height = height + np.exp(-((v-x)*2/stdev)**2)\n",
    "        height = height + tri(x,v,diff)/N\n",
    "        #plt.plot(x,height)\n",
    "    return disp\n",
    "arr1 = np.random.randn(100)*10\n",
    "arr2 = np.random.randn(100)*10+25\n",
    "\n",
    "plt.plot(arr1,stackit(arr1),'o')\n",
    "plt.plot(arr2,stackit(arr2),'o')\n",
    "vals,bins=np.histogram(arr2,density=True)\n",
    "#plt.plot(bins[1:],vals)"
   ]
  },
  {
   "cell_type": "code",
   "execution_count": 22,
   "metadata": {},
   "outputs": [
    {
     "data": {
      "application/vnd.jupyter.widget-view+json": {
       "model_id": "62d7f43461494f72bf01014537ee72e8",
       "version_major": 2,
       "version_minor": 0
      },
      "text/plain": [
       "interactive(children=(FloatSlider(value=3.0, continuous_update=False, description='mu', max=10.0), FloatSlider…"
      ]
     },
     "metadata": {},
     "output_type": "display_data"
    }
   ],
   "source": [
    "def plot_samples(mu, sd, N):\n",
    "    arr1 = np.random.randn(N)*sd\n",
    "    arr2 = np.random.randn(N)*sd+mu\n",
    "    bins = np.linspace(-10,40,61)\n",
    "    #plt.hist(arr1,bins=bins,alpha=0.2,density=True)\n",
    "    #plt.hist(arr2,bins=bins,alpha=0.2,density=True)\n",
    "    plt.xlim(-10,20)\n",
    "    plt.ylim(0,0.35)\n",
    "    plt.plot(arr1,stackit(arr1),'.',alpha=1-0.9*(np.log(N)-np.log(10))/(np.log(2000)-np.log(10)))\n",
    "    plt.plot(arr2,stackit(arr2),'.',alpha=1-0.9*(np.log(N)-np.log(10))/(np.log(2000)-np.log(10)))\n",
    "    bins = np.linspace(-10,20,int(5*np.log(N)))\n",
    "    plt.hist(arr1,bins=bins,density=True,color='blue',alpha=0.2+0.4*N/2000. )\n",
    "    plt.hist(arr2,bins=bins,density=True,color='orange',alpha=0.2+0.4*N/2000. )\n",
    "    plt.axvline(0,ls='--',color='blue')\n",
    "    plt.axvline(mu,ls='--',color='orange')\n",
    "\n",
    "interactive_plot = interact_manual(plot_samples, \n",
    "                               mu=widgets.FloatSlider(value=3,min=0,max=10,continuous_update=False), \n",
    "                               sd=widgets.FloatSlider(value=2,min=1,max=5,continuous_update=False), \n",
    "                               N=widgets.SelectionSlider(\n",
    "    options=[10,20,50,100,200,500,1000,2000],\n",
    "    value=50,\n",
    "    description='N',\n",
    "    continuous_update=False,\n",
    "    orientation='horizontal',\n",
    "    readout=True\n",
    "))\n",
    "interactive_plot;"
   ]
  },
  {
   "cell_type": "code",
   "execution_count": 21,
   "metadata": {},
   "outputs": [
    {
     "data": {
      "application/vnd.jupyter.widget-view+json": {
       "model_id": "8b6802c1ef404c3abe98b7d85f47b442",
       "version_major": 2,
       "version_minor": 0
      },
      "text/plain": [
       "SelectionSlider(continuous_update=False, description='Number of samples', index=2, options=(10, 20, 50, 100, 2…"
      ]
     },
     "metadata": {},
     "output_type": "display_data"
    }
   ],
   "source": [
    "Nslide=widgets.SelectionSlider(\n",
    "    options=[10,20,50,100,200,500,1000,2000],\n",
    "    value=50,\n",
    "    description='Number of samples',\n",
    "    continuous_update=False,\n",
    "    orientation='horizontal',\n",
    "    readout=True\n",
    ")\n",
    "Nslide"
   ]
  },
  {
   "cell_type": "code",
   "execution_count": 148,
   "metadata": {},
   "outputs": [],
   "source": []
  },
  {
   "cell_type": "code",
   "execution_count": 149,
   "metadata": {},
   "outputs": [
    {
     "data": {
      "text/plain": [
       "[<matplotlib.lines.Line2D at 0x126fc7160>]"
      ]
     },
     "execution_count": 149,
     "metadata": {},
     "output_type": "execute_result"
    },
    {
     "data": {
      "image/png": "[encoded data removed]",
      "text/plain": [
       "<Figure size 432x288 with 1 Axes>"
      ]
     },
     "metadata": {},
     "output_type": "display_data"
    }
   ],
   "source": [
    "plt.plot(x,tri(x,5,8))"
   ]
  },
  {
   "cell_type": "code",
   "execution_count": null,
   "metadata": {},
   "outputs": [],
   "source": []
  }
 ],
 "metadata": {
  "anaconda-cloud": {},
  "kernelspec": {
   "display_name": "Python [default]",
   "language": "python",
   "name": "python3"
  },
  "language_info": {
   "codemirror_mode": {
    "name": "ipython",
    "version": 3
   },
   "file_extension": ".py",
   "mimetype": "text/x-python",
   "name": "python",
   "nbconvert_exporter": "python",
   "pygments_lexer": "ipython3",
   "version": "3.5.2"
  }
 },
 "nbformat": 4,
 "nbformat_minor": 2
}
