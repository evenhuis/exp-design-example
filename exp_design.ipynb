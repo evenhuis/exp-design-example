{
 "cells": [
  {
   "cell_type": "markdown",
   "metadata": {
    "nbpresent": {
     "id": "1b3041fc-508c-4a0e-a816-2a3abb742f74"
    }
   },
   "source": [
    "# Cells size experiment"
   ]
  },
  {
   "cell_type": "markdown",
   "metadata": {
    "nbpresent": {
     "id": "fb96e18d-6c48-4e04-8126-9d00235d08b9"
    }
   },
   "source": [
    "Experimental design helps you decide the number of replicates you need to relibably detect effects in your experiment. \n",
    "In this example we going to look at changes in the size of cell by measuring it's area."
   ]
  },
  {
   "cell_type": "markdown",
   "metadata": {
    "nbpresent": {
     "id": "1fdeab40-440d-436f-b071-6ed498067747"
    }
   },
   "source": [
    "First we need to import some packages for doing maths and plotting"
   ]
  },
  {
   "cell_type": "code",
   "execution_count": 1,
   "metadata": {
    "nbpresent": {
     "id": "97fa23e3-3749-4bd9-8ab1-2d27e2643173"
    }
   },
   "outputs": [],
   "source": [
    "%matplotlib inline\n",
    "import matplotlib\n",
    "import numpy as np\n",
    "import pandas as pd\n",
    "import matplotlib.pyplot as plt\n",
    "import seaborn as sns\n",
    "from scipy import stats\n",
    "from helper_functions import *"
   ]
  },
  {
   "cell_type": "markdown",
   "metadata": {
    "nbpresent": {
     "id": "f0910fc3-16b6-4532-9f5d-86a532834f0b"
    }
   },
   "source": [
    "## 1. Measuring the size of the cells"
   ]
  },
  {
   "cell_type": "markdown",
   "metadata": {
    "nbpresent": {
     "id": "3bf9dddc-d916-4c1a-b736-bdd34d35b595"
    }
   },
   "source": [
    "The first step is to measure the area of the cells. Below is a phase contrast picture of the 3T3 cells before treatement.  The cells were detected in FIJI using a short script and the information about each Region of Interest (ROI) exported as a `.csv` file. "
   ]
  },
  {
   "cell_type": "markdown",
   "metadata": {
    "nbpresent": {
     "id": "fe1812c8-43e6-4c29-8e69-7bc069df28e6"
    }
   },
   "source": [
    "### Before \n",
    "![](media/detect.png)\n",
    "\n",
    "### After \n",
    "![](media/detect2.png)"
   ]
  },
  {
   "cell_type": "markdown",
   "metadata": {
    "nbpresent": {
     "id": "67dac1b5-14f5-4820-bdb9-bee4aad0fc27"
    }
   },
   "source": [
    "# Reading in the data about the cells"
   ]
  },
  {
   "cell_type": "markdown",
   "metadata": {
    "nbpresent": {
     "id": "28f45084-f894-417d-88d3-8437c8a00bfe"
    }
   },
   "source": [
    "The sizes from of the intial time points were saved into a set `.csv files` for each field of view and time point.  This code reads in the data and organises it into a nice neat table:"
   ]
  },
  {
   "cell_type": "code",
   "execution_count": 2,
   "metadata": {
    "nbpresent": {
     "id": "4920f66c-769b-452d-9840-1fc13268b3a4"
    }
   },
   "outputs": [],
   "source": [
    "df =read_data()"
   ]
  },
  {
   "cell_type": "code",
   "execution_count": 3,
   "metadata": {
    "nbpresent": {
     "id": "9de29edf-f003-41ed-a7b4-1a32090afc85"
    }
   },
   "outputs": [
    {
     "data": {
      "text/html": [
       "<div>\n",
       "<style scoped>\n",
       "    .dataframe tbody tr th:only-of-type {\n",
       "        vertical-align: middle;\n",
       "    }\n",
       "\n",
       "    .dataframe tbody tr th {\n",
       "        vertical-align: top;\n",
       "    }\n",
       "\n",
       "    .dataframe thead th {\n",
       "        text-align: right;\n",
       "    }\n",
       "</style>\n",
       "<table border=\"1\" class=\"dataframe\">\n",
       "  <thead>\n",
       "    <tr style=\"text-align: right;\">\n",
       "      <th></th>\n",
       "      <th></th>\n",
       "      <th>Area</th>\n",
       "      <th>X</th>\n",
       "      <th>Y</th>\n",
       "      <th>Perim.</th>\n",
       "      <th>BX</th>\n",
       "      <th>BY</th>\n",
       "      <th>Width</th>\n",
       "      <th>Height</th>\n",
       "      <th>Major</th>\n",
       "      <th>Minor</th>\n",
       "      <th>Angle</th>\n",
       "      <th>Circ.</th>\n",
       "      <th>AR</th>\n",
       "      <th>Round</th>\n",
       "      <th>Solidity</th>\n",
       "      <th>Time</th>\n",
       "    </tr>\n",
       "  </thead>\n",
       "  <tbody>\n",
       "    <tr>\n",
       "      <th>0</th>\n",
       "      <td>1</td>\n",
       "      <td>495.783</td>\n",
       "      <td>273.210</td>\n",
       "      <td>55.699</td>\n",
       "      <td>146.244</td>\n",
       "      <td>258.924</td>\n",
       "      <td>35.208</td>\n",
       "      <td>30.440</td>\n",
       "      <td>38.875</td>\n",
       "      <td>35.397</td>\n",
       "      <td>17.834</td>\n",
       "      <td>117.459</td>\n",
       "      <td>0.291</td>\n",
       "      <td>1.985</td>\n",
       "      <td>0.504</td>\n",
       "      <td>0.695</td>\n",
       "      <td>1</td>\n",
       "    </tr>\n",
       "    <tr>\n",
       "      <th>1</th>\n",
       "      <td>2</td>\n",
       "      <td>463.502</td>\n",
       "      <td>472.280</td>\n",
       "      <td>64.761</td>\n",
       "      <td>114.873</td>\n",
       "      <td>453.667</td>\n",
       "      <td>53.178</td>\n",
       "      <td>37.042</td>\n",
       "      <td>24.572</td>\n",
       "      <td>30.632</td>\n",
       "      <td>19.266</td>\n",
       "      <td>23.603</td>\n",
       "      <td>0.441</td>\n",
       "      <td>1.590</td>\n",
       "      <td>0.629</td>\n",
       "      <td>0.732</td>\n",
       "      <td>1</td>\n",
       "    </tr>\n",
       "    <tr>\n",
       "      <th>2</th>\n",
       "      <td>3</td>\n",
       "      <td>414.542</td>\n",
       "      <td>347.846</td>\n",
       "      <td>82.791</td>\n",
       "      <td>130.669</td>\n",
       "      <td>331.174</td>\n",
       "      <td>73.716</td>\n",
       "      <td>41.443</td>\n",
       "      <td>19.071</td>\n",
       "      <td>36.408</td>\n",
       "      <td>14.497</td>\n",
       "      <td>4.068</td>\n",
       "      <td>0.305</td>\n",
       "      <td>2.511</td>\n",
       "      <td>0.398</td>\n",
       "      <td>0.643</td>\n",
       "      <td>1</td>\n",
       "    </tr>\n",
       "    <tr>\n",
       "      <th>3</th>\n",
       "      <td>4</td>\n",
       "      <td>1057.472</td>\n",
       "      <td>528.469</td>\n",
       "      <td>128.270</td>\n",
       "      <td>224.004</td>\n",
       "      <td>505.746</td>\n",
       "      <td>97.922</td>\n",
       "      <td>39.976</td>\n",
       "      <td>63.447</td>\n",
       "      <td>52.267</td>\n",
       "      <td>25.761</td>\n",
       "      <td>108.483</td>\n",
       "      <td>0.265</td>\n",
       "      <td>2.029</td>\n",
       "      <td>0.493</td>\n",
       "      <td>0.643</td>\n",
       "      <td>1</td>\n",
       "    </tr>\n",
       "    <tr>\n",
       "      <th>4</th>\n",
       "      <td>5</td>\n",
       "      <td>3867.265</td>\n",
       "      <td>446.777</td>\n",
       "      <td>163.193</td>\n",
       "      <td>998.925</td>\n",
       "      <td>379.584</td>\n",
       "      <td>100.122</td>\n",
       "      <td>136.797</td>\n",
       "      <td>122.494</td>\n",
       "      <td>129.187</td>\n",
       "      <td>38.115</td>\n",
       "      <td>129.794</td>\n",
       "      <td>0.049</td>\n",
       "      <td>3.389</td>\n",
       "      <td>0.295</td>\n",
       "      <td>0.466</td>\n",
       "      <td>1</td>\n",
       "    </tr>\n",
       "  </tbody>\n",
       "</table>\n",
       "</div>"
      ],
      "text/plain": [
       "          Area        X        Y   Perim.       BX       BY    Width   Height  \\\n",
       "0  1   495.783  273.210   55.699  146.244  258.924   35.208   30.440   38.875   \n",
       "1  2   463.502  472.280   64.761  114.873  453.667   53.178   37.042   24.572   \n",
       "2  3   414.542  347.846   82.791  130.669  331.174   73.716   41.443   19.071   \n",
       "3  4  1057.472  528.469  128.270  224.004  505.746   97.922   39.976   63.447   \n",
       "4  5  3867.265  446.777  163.193  998.925  379.584  100.122  136.797  122.494   \n",
       "\n",
       "     Major   Minor    Angle  Circ.     AR  Round  Solidity Time  \n",
       "0   35.397  17.834  117.459  0.291  1.985  0.504     0.695    1  \n",
       "1   30.632  19.266   23.603  0.441  1.590  0.629     0.732    1  \n",
       "2   36.408  14.497    4.068  0.305  2.511  0.398     0.643    1  \n",
       "3   52.267  25.761  108.483  0.265  2.029  0.493     0.643    1  \n",
       "4  129.187  38.115  129.794  0.049  3.389  0.295     0.466    1  "
      ]
     },
     "execution_count": 3,
     "metadata": {},
     "output_type": "execute_result"
    }
   ],
   "source": [
    "df.head()"
   ]
  },
  {
   "cell_type": "markdown",
   "metadata": {
    "nbpresent": {
     "id": "00ae3039-f1e7-4b46-a120-724f9eaa9f3c"
    }
   },
   "source": [
    "## What is distribution of the  size of the cells?"
   ]
  },
  {
   "cell_type": "markdown",
   "metadata": {
    "nbpresent": {
     "id": "54b669dc-08c2-48d1-a6ed-108a42ca99f6"
    }
   },
   "source": [
    "The first we need to know is what the spread or distribution of cell sizes are in the population.  Here are plots of the area of the cells for two time points to give us an idea of the shape of the distributions."
   ]
  },
  {
   "cell_type": "code",
   "execution_count": 4,
   "metadata": {
    "nbpresent": {
     "id": "1a62f4ac-e809-4119-a6ca-59120afbe1da"
    }
   },
   "outputs": [
    {
     "data": {
      "image/png": "[encoded data removed]",
      "text/plain": [
       "<Figure size 576x432 with 1 Axes>"
      ]
     },
     "metadata": {},
     "output_type": "display_data"
    }
   ],
   "source": [
    "fig,ax=plt.subplots(figsize=(8,6))\n",
    "sns.violinplot(x=\"Area\",y='Time',cut=0,inner=None,data=df)\n",
    "sns.swarmplot(x=\"Area\",y='Time',data=df)\n",
    "plt.title(\"Experimental obs\",fontsize=16)\n",
    "setAlpha(ax,0.2)"
   ]
  },
  {
   "cell_type": "markdown",
   "metadata": {
    "nbpresent": {
     "id": "2a33a7ef-a384-4fd4-8035-a6984e52c44d"
    }
   },
   "source": [
    "A common way to describe the size of cells is the log-normal distribution.  This is simply a normal distribution on a log scale.  \n",
    "\n",
    "Compared to the more familar normal distribution, the log-normal more realisitic for describing the size of cells as it cannot be negative.  To demonstrate this we fit the normal and log-normal distributions to the area data "
   ]
  },
  {
   "cell_type": "code",
   "execution_count": 5,
   "metadata": {
    "nbpresent": {
     "id": "bf98b9e9-a764-4c76-b2db-f2b42df98283"
    }
   },
   "outputs": [],
   "source": [
    "mask = df['Time']==1\n",
    "ln_param=stats.lognorm.fit(df[mask]['Area'],floc=0)\n",
    "nm_param=stats.norm.fit   (df[mask]['Area'])"
   ]
  },
  {
   "cell_type": "markdown",
   "metadata": {
    "nbpresent": {
     "id": "32d289f9-aca6-4732-97f4-d8615dad9e6d"
    }
   },
   "source": [
    "Plotting the distributions highlights that the problem with the normal disrtibution:\n",
    "* a signficant number of cells with negative area\n",
    "* probably not enough cells with large area"
   ]
  },
  {
   "cell_type": "code",
   "execution_count": 6,
   "metadata": {
    "nbpresent": {
     "id": "77dc90ce-8847-4893-bad0-54bceba40361"
    }
   },
   "outputs": [
    {
     "data": {
      "text/plain": [
       "<matplotlib.legend.Legend at 0x1a21774438>"
      ]
     },
     "execution_count": 6,
     "metadata": {},
     "output_type": "execute_result"
    },
    {
     "data": {
      "image/png": "[encoded data removed]",
      "text/plain": [
       "<Figure size 720x432 with 1 Axes>"
      ]
     },
     "metadata": {},
     "output_type": "display_data"
    }
   ],
   "source": [
    "x = np.linspace(-1000,4000,100)\n",
    "mask = df['Time']==1\n",
    "\n",
    "fig,ax = plt.subplots(figsize=(10,6))\n",
    "plt.hist(df[mask]['Area'], bins=np.linspace(0,4000,20),density=True,    label=\"Exp data\")\n",
    "plt.plot(x,stats.lognorm.pdf(x,ln_param[0]  ,scale=ln_param[2]),   label=\"log-normal\")\n",
    "plt.plot(x,stats.norm.pdf   (x,loc=nm_param[0],scale=nm_param[1]), label=\"normal\")\n",
    "plt.xlabel(\"Area\")\n",
    "plt.title(\"Sizes at start of experiment\")\n",
    "plt.legend()"
   ]
  },
  {
   "cell_type": "markdown",
   "metadata": {
    "nbpresent": {
     "id": "6d25260b-3415-4a97-9968-60acea3446f8"
    }
   },
   "source": [
    "The fit is repeated for the cell sizes after treament"
   ]
  },
  {
   "cell_type": "code",
   "execution_count": 5,
   "metadata": {
    "nbpresent": {
     "id": "153ab8a8-a648-4133-8808-7024a3de441d"
    }
   },
   "outputs": [
    {
     "data": {
      "text/plain": [
       "<matplotlib.legend.Legend at 0x1234e9048>"
      ]
     },
     "execution_count": 5,
     "metadata": {},
     "output_type": "execute_result"
    },
    {
     "data": {
      "image/png": "[encoded data removed]",
      "text/plain": [
       "<Figure size 720x432 with 1 Axes>"
      ]
     },
     "metadata": {},
     "output_type": "display_data"
    }
   ],
   "source": [
    "mask = df['Time']==4\n",
    "ln_param=stats.lognorm.fit(df[mask]['Area'],floc=0)\n",
    "nm_param=stats.norm.fit   (df[mask]['Area'])\n",
    "x = np.linspace(-1000,4000,100)\n",
    "fig,ax = plt.subplots(figsize=(10,6))\n",
    "plt.hist(df[mask]['Area'], bins=np.linspace(0,4000,20),density=True,     label=\"Exp data\")\n",
    "plt.plot(x,stats.lognorm.pdf(x,ln_param[0]  ,scale=ln_param[2]),  label=\"log-normal\")\n",
    "plt.plot(x,stats.norm.pdf   (x,loc=nm_param[0],scale=nm_param[1]),label=\"normal\")\n",
    "plt.xlabel(\"Area\")\n",
    "plt.title(\"Sizes at end of experiment\")\n",
    "plt.legend()"
   ]
  },
  {
   "cell_type": "markdown",
   "metadata": {
    "nbpresent": {
     "id": "c6bcf3cd-fa41-4897-95be-cbb8059ff37c"
    }
   },
   "source": [
    "## Making fake data"
   ]
  },
  {
   "cell_type": "markdown",
   "metadata": {
    "nbpresent": {
     "id": "af53151d-9690-46d3-8064-3cdd81abfe3b"
    }
   },
   "source": [
    "The whole point of the previous section was to enable us to make up realistic 'fake' data for running simulations.  Using the information from above here is a function that makes fake data sets"
   ]
  },
  {
   "cell_type": "code",
   "execution_count": 6,
   "metadata": {
    "nbpresent": {
     "id": "2da9ef1f-4678-4120-8265-64fe5702fbe6"
    }
   },
   "outputs": [],
   "source": [
    "def gen_fake_data( nsamp=65, f_red=0.55 ):\n",
    "    Nc = stats.poisson.rvs(nsamp)\n",
    "    Nt=Nc\n",
    "    area_c = stats.lognorm.rvs( 0.78, scale=      890, size=Nc)\n",
    "    area_t = stats.lognorm.rvs( 0.78, scale=f_red*890, size=Nt)\n",
    "    df = pd.concat(map(pd.DataFrame, [{'Area':area_c,'Time':1 },{'Area':area_t,'Time':4}]))\n",
    "    df ['Time']=pd.Categorical(df['Time'])\n",
    "    return df"
   ]
  },
  {
   "cell_type": "markdown",
   "metadata": {
    "nbpresent": {
     "id": "4e9a7f64-9277-4e70-9fd8-952aa0168851"
    }
   },
   "source": [
    "Now lets compare it to the observed data"
   ]
  },
  {
   "cell_type": "code",
   "execution_count": 7,
   "metadata": {
    "nbpresent": {
     "id": "7111f936-80be-4959-a107-686634803fa8"
    }
   },
   "outputs": [
    {
     "data": {
      "image/png": "[encoded data removed]",
      "text/plain": [
       "<Figure size 864x576 with 2 Axes>"
      ]
     },
     "metadata": {},
     "output_type": "display_data"
    }
   ],
   "source": [
    "dfx = gen_fake_data(f_red=0.7,nsamp=65)\n",
    "\n",
    "def compare_dists( df_obs, df_fake ):\n",
    "    fig,axs = plt.subplots(1,2,sharex=True,sharey=True,figsize=(12,8))\n",
    "    \n",
    "    sns.violinplot(x=\"Area\",y='Time',inner=None,cut=0,data=df_fake, ax=axs[1])\n",
    "    sns.swarmplot(x=\"Area\",y='Time',data=df_fake,ax=axs[1])\n",
    "    setAlpha(axs[1],0.2)\n",
    "    axs[1].set_title(\"Fake data\")\n",
    "\n",
    "    sns.violinplot(x=\"Area\",y='Time',inner=None,cut=0,data=df_obs, ax=axs[0])\n",
    "    sns.swarmplot(x=\"Area\",y='Time',data=df_obs,ax=axs[0])\n",
    "    axs[0].set_xlim(0,5000)\n",
    "    axs[0].set_title(\"Real data\")\n",
    "    setAlpha(axs[0],0.2)\n",
    "    return fig,axs\n",
    "    \n",
    "axs = compare_dists(df,dfx)\n",
    "    "
   ]
  },
  {
   "cell_type": "markdown",
   "metadata": {
    "nbpresent": {
     "id": "8553d3bb-910d-4dd9-bceb-b244a993b1ad"
    }
   },
   "source": [
    "## Statistical tests"
   ]
  },
  {
   "cell_type": "markdown",
   "metadata": {
    "nbpresent": {
     "id": "ab94ce13-6ca1-4828-9629-3f93feee59ea"
    }
   },
   "source": [
    "One of the important things to report from your experiement is what is chance that your results could be due to chance alone.  This commonly done using statitisical test and reported as a p-value.  \n",
    "\n",
    "\n"
   ]
  },
  {
   "cell_type": "code",
   "execution_count": 8,
   "metadata": {
    "nbpresent": {
     "id": "c7d9216d-6480-4503-af3f-b0f9518fe029"
    }
   },
   "outputs": [
    {
     "name": "stdout",
     "output_type": "stream",
     "text": [
      "Exp t=1 vs Fake t=1 0.04231803733498595\n",
      "Exp t=4 vs Fake t=4 0.34920584012911204\n"
     ]
    }
   ],
   "source": [
    "dfx = gen_fake_data(nsamp=65,f_red=0.5)\n",
    "def pval_Ttest( df1, time1, df2, time2):\n",
    "    area1 = df1[df1['Time']==time1]['Area']\n",
    "    area2 = df2[df2['Time']==time2]['Area']\n",
    "    return stats.ttest_ind(area1, area2)\n",
    "print(\"Exp t=1 vs Fake t=1 {}\".format( pval_Ttest( df,1, dfx,1).pvalue))\n",
    "print(\"Exp t=4 vs Fake t=4 {}\".format( pval_Ttest( df,4, dfx,4).pvalue))\n"
   ]
  },
  {
   "cell_type": "code",
   "execution_count": 9,
   "metadata": {
    "nbpresent": {
     "id": "9d14510b-8a6d-4619-8e80-07e122465b17"
    }
   },
   "outputs": [
    {
     "ename": "NameError",
     "evalue": "name 'area_c' is not defined",
     "output_type": "error",
     "traceback": [
      "\u001b[0;31m---------------------------------------------------------------------------\u001b[0m",
      "\u001b[0;31mNameError\u001b[0m                                 Traceback (most recent call last)",
      "\u001b[0;32m<ipython-input-9-50fb9a804088>\u001b[0m in \u001b[0;36m<module>\u001b[0;34m()\u001b[0m\n\u001b[0;32m----> 1\u001b[0;31m \u001b[0mstats\u001b[0m\u001b[0;34m.\u001b[0m\u001b[0mmannwhitneyu\u001b[0m\u001b[0;34m(\u001b[0m\u001b[0marea_c\u001b[0m\u001b[0;34m,\u001b[0m\u001b[0marea_t\u001b[0m\u001b[0;34m,\u001b[0m\u001b[0malternative\u001b[0m\u001b[0;34m=\u001b[0m\u001b[0;34m'two-sided'\u001b[0m\u001b[0;34m)\u001b[0m\u001b[0;34m.\u001b[0m\u001b[0mpvalue\u001b[0m\u001b[0;34m\u001b[0m\u001b[0m\n\u001b[0m",
      "\u001b[0;31mNameError\u001b[0m: name 'area_c' is not defined"
     ]
    }
   ],
   "source": [
    "stats.mannwhitneyu(area_c,area_t,alternative='two-sided').pvalue"
   ]
  },
  {
   "cell_type": "code",
   "execution_count": null,
   "metadata": {},
   "outputs": [],
   "source": []
  },
  {
   "cell_type": "markdown",
   "metadata": {
    "nbpresent": {
     "id": "2dccdb5f-2227-46f0-b47d-ab0b82257f4a"
    }
   },
   "source": [
    "Now we going to simulate doing the experiment with different number of fields of view"
   ]
  },
  {
   "cell_type": "code",
   "execution_count": 18,
   "metadata": {
    "nbpresent": {
     "id": "575eec95-392c-4108-85ba-1c406c7fa79d"
    }
   },
   "outputs": [],
   "source": [
    "size_ratio = 0.5\n",
    "sample_sizes= np.array([10,20,30,40,50,60,70,80,90,100])\n",
    "nrep =100\n",
    "\n",
    "ttest_pvals=np.zeros([len(sample_sizes),nrep,2])\n",
    "manwt_pvals=np.zeros([len(sample_sizes),nrep,2])\n",
    "for n,nsamp in enumerate(sample_sizes):\n",
    "    for i in range(nrep):\n",
    "        dfx = gen_fake_data(nsamp=nsamp,f_red=size_ratio)\n",
    "        area_c = dfx[dfx['Time']==1]['Area']\n",
    "        area_t = dfx[dfx['Time']==4]['Area']\n",
    "        ttest_pvals[n,i]=[nsamp,stats.ttest_ind   (area_c, area_t                        ).pvalue]\n",
    "        manwt_pvals[n,i]=[nsamp,stats.mannwhitneyu(area_c, area_t,alternative='two-sided').pvalue]"
   ]
  },
  {
   "cell_type": "code",
   "execution_count": 19,
   "metadata": {
    "nbpresent": {
     "id": "f64d2305-8a44-4849-9278-44656d906eaf"
    }
   },
   "outputs": [
    {
     "data": {
      "image/png": "[encoded data removed]",
      "text/plain": [
       "<Figure size 576x432 with 2 Axes>"
      ]
     },
     "metadata": {},
     "output_type": "display_data"
    }
   ],
   "source": [
    "import helper_functions as hp\n",
    "import importlib\n",
    "importlib.reload(hp)\n",
    "fig,ax= plt.subplots(figsize=(8,6))\n",
    "ax.set_xlabel(\"Number of cells\",fontsize=16)\n",
    "hp.plot_pval(manwt_pvals,ax)\n",
    "ax.axhline(0.05,dashes=(5,5),color='blue')\n",
    "ax.set_title(\"Ratio of sizes = {:.2f}\".format(size_ratio),fontsize=16)\n",
    "ax.grid()\n",
    "plt.savefig(\"ratio_0.50.png\")"
   ]
  },
  {
   "cell_type": "code",
   "execution_count": null,
   "metadata": {
    "nbpresent": {
     "id": "0b1ead30-a350-4e6f-89e3-4433c8c8f501"
    }
   },
   "outputs": [],
   "source": []
  },
  {
   "cell_type": "code",
   "execution_count": null,
   "metadata": {
    "nbpresent": {
     "id": "fd73eb07-5c00-4c05-9051-e9d16e8f1b1f"
    }
   },
   "outputs": [],
   "source": []
  }
 ],
 "metadata": {
  "anaconda-cloud": {},
  "kernelspec": {
   "display_name": "Python [default]",
   "language": "python",
   "name": "python3"
  },
  "language_info": {
   "codemirror_mode": {
    "name": "ipython",
    "version": 3
   },
   "file_extension": ".py",
   "mimetype": "text/x-python",
   "name": "python",
   "nbconvert_exporter": "python",
   "pygments_lexer": "ipython3",
   "version": "3.5.2"
  },
  "nbpresent": {
   "slides": {
    "030b7e4c-4279-4080-a7d4-aadb2d84a1e7": {
     "id": "030b7e4c-4279-4080-a7d4-aadb2d84a1e7",
     "prev": "92a8a8eb-935a-470e-a27b-5fe9e7dc7e1d",
     "regions": {
      "bb54f24d-ceae-47a8-be91-fb0977d18766": {
       "attrs": {
        "height": 0.8,
        "width": 0.8,
        "x": 0.1,
        "y": 0.1
       },
       "content": {
        "cell": "fd73eb07-5c00-4c05-9051-e9d16e8f1b1f",
        "part": "whole"
       },
       "id": "bb54f24d-ceae-47a8-be91-fb0977d18766"
      }
     }
    },
    "0e263c8c-1e1d-410c-9b96-e165823b3def": {
     "id": "0e263c8c-1e1d-410c-9b96-e165823b3def",
     "prev": "83856ac1-041d-4bed-a739-e8f8e1f291ee",
     "regions": {
      "d4274af3-51d5-49f2-8d21-5826e8ca0216": {
       "attrs": {
        "height": 0.8,
        "width": 0.8,
        "x": 0.1,
        "y": 0.1
       },
       "content": {
        "cell": "67dac1b5-14f5-4820-bdb9-bee4aad0fc27",
        "part": "whole"
       },
       "id": "d4274af3-51d5-49f2-8d21-5826e8ca0216"
      }
     }
    },
    "0f1a102e-fedf-46da-a136-1056784dda70": {
     "id": "0f1a102e-fedf-46da-a136-1056784dda70",
     "prev": "89eb8de0-3a14-4780-a5e9-51e50b6b77bb",
     "regions": {
      "fddb8156-6c2f-416d-be09-33d72615ca0a": {
       "attrs": {
        "height": 0.8,
        "width": 0.8,
        "x": 0.1,
        "y": 0.1
       },
       "content": {
        "cell": "153ab8a8-a648-4133-8808-7024a3de441d",
        "part": "whole"
       },
       "id": "fddb8156-6c2f-416d-be09-33d72615ca0a"
      }
     }
    },
    "1ea33a45-f70e-483c-9d46-46ee8b38bfed": {
     "id": "1ea33a45-f70e-483c-9d46-46ee8b38bfed",
     "prev": null,
     "regions": {
      "4d146030-b4de-4814-a751-202732c1c80c": {
       "attrs": {
        "height": 0.8,
        "width": 0.8,
        "x": 0.1,
        "y": 0.1
       },
       "content": {
        "cell": "fb96e18d-6c48-4e04-8126-9d00235d08b9",
        "part": "whole"
       },
       "id": "4d146030-b4de-4814-a751-202732c1c80c"
      }
     }
    },
    "21ad6d2f-3dac-4a62-971f-77526b008d9f": {
     "id": "21ad6d2f-3dac-4a62-971f-77526b008d9f",
     "prev": "b7e9fdaa-54ed-4998-b714-80c720064778",
     "regions": {
      "55b02348-632b-4f63-8208-e756eed123da": {
       "attrs": {
        "height": 0.8,
        "width": 0.8,
        "x": 0.1,
        "y": 0.1
       },
       "content": {
        "cell": "1a62f4ac-e809-4119-a6ca-59120afbe1da",
        "part": "whole"
       },
       "id": "55b02348-632b-4f63-8208-e756eed123da"
      }
     }
    },
    "26a6da80-b09e-47c2-b36c-634f3e4c57df": {
     "id": "26a6da80-b09e-47c2-b36c-634f3e4c57df",
     "prev": "3dbdd90c-b723-4b91-8fb5-26f7eb52dae6",
     "regions": {
      "6caa5c7d-0521-4f5b-9bb0-f17b521874b3": {
       "attrs": {
        "height": 0.8,
        "width": 0.8,
        "x": 0.1,
        "y": 0.1
       },
       "content": {
        "cell": "33b747f6-b052-4b7f-b347-5b0f7478be62",
        "part": "whole"
       },
       "id": "6caa5c7d-0521-4f5b-9bb0-f17b521874b3"
      }
     }
    },
    "3dbdd90c-b723-4b91-8fb5-26f7eb52dae6": {
     "id": "3dbdd90c-b723-4b91-8fb5-26f7eb52dae6",
     "prev": "60e8fdab-d653-4b30-9e74-3f7fd616da7d",
     "regions": {
      "a347366e-71b0-426e-83b4-ab24d77e44df": {
       "attrs": {
        "height": 0.8,
        "width": 0.8,
        "x": 0.1,
        "y": 0.1
       },
       "content": {
        "cell": "c7d9216d-6480-4503-af3f-b0f9518fe029",
        "part": "whole"
       },
       "id": "a347366e-71b0-426e-83b4-ab24d77e44df"
      }
     }
    },
    "47829360-397e-4de5-8aa8-b59dd1be5286": {
     "id": "47829360-397e-4de5-8aa8-b59dd1be5286",
     "prev": "0e263c8c-1e1d-410c-9b96-e165823b3def",
     "regions": {
      "ef59db14-50f3-48f1-98f4-d787758ffe92": {
       "attrs": {
        "height": 0.8,
        "width": 0.8,
        "x": 0.1,
        "y": 0.1
       },
       "content": {
        "cell": "28f45084-f894-417d-88d3-8437c8a00bfe",
        "part": "whole"
       },
       "id": "ef59db14-50f3-48f1-98f4-d787758ffe92"
      }
     }
    },
    "5336fa08-c263-406a-8eba-38990dd164c9": {
     "id": "5336fa08-c263-406a-8eba-38990dd164c9",
     "prev": "cfafa40f-3b05-43a2-acd0-e869a3f729a7",
     "regions": {
      "5b597f02-2401-46d5-b72f-078d11c63452": {
       "attrs": {
        "height": 0.8,
        "width": 0.8,
        "x": 0.1,
        "y": 0.1
       },
       "content": {
        "cell": "af53151d-9690-46d3-8064-3cdd81abfe3b",
        "part": "whole"
       },
       "id": "5b597f02-2401-46d5-b72f-078d11c63452"
      }
     }
    },
    "60e8fdab-d653-4b30-9e74-3f7fd616da7d": {
     "id": "60e8fdab-d653-4b30-9e74-3f7fd616da7d",
     "prev": "9c28a702-b510-49cc-99ec-8c1f01848b28",
     "regions": {
      "ca39dd63-82f6-4eef-8f8d-47b480adc67b": {
       "attrs": {
        "height": 0.8,
        "width": 0.8,
        "x": 0.1,
        "y": 0.1
       },
       "content": {
        "cell": "ab94ce13-6ca1-4828-9629-3f93feee59ea",
        "part": "whole"
       },
       "id": "ca39dd63-82f6-4eef-8f8d-47b480adc67b"
      }
     }
    },
    "774a4d38-c9fd-46fb-9793-350c4bf9beca": {
     "id": "774a4d38-c9fd-46fb-9793-350c4bf9beca",
     "prev": "f456fd11-9886-4cbb-808c-39bc8995c718",
     "regions": {
      "56bbab91-73aa-4071-909c-dec635c52f0b": {
       "attrs": {
        "height": 0.8,
        "width": 0.8,
        "x": 0.1,
        "y": 0.1
       },
       "content": {
        "cell": "3bf9dddc-d916-4c1a-b736-bdd34d35b595",
        "part": "whole"
       },
       "id": "56bbab91-73aa-4071-909c-dec635c52f0b"
      }
     }
    },
    "78329c99-1e2f-46e0-ac87-be848f800adb": {
     "id": "78329c99-1e2f-46e0-ac87-be848f800adb",
     "prev": "8d0f3fe2-d079-43c3-92c7-9ae44987d75e",
     "regions": {
      "721e2f64-e83f-44ed-82ba-61783cefec8e": {
       "attrs": {
        "height": 0.8,
        "width": 0.8,
        "x": 0.1,
        "y": 0.1
       },
       "content": {
        "cell": "7111f936-80be-4959-a107-686634803fa8",
        "part": "whole"
       },
       "id": "721e2f64-e83f-44ed-82ba-61783cefec8e"
      }
     }
    },
    "7d5babdc-cf28-4603-8b54-432fd6064ea1": {
     "id": "7d5babdc-cf28-4603-8b54-432fd6064ea1",
     "prev": "21ad6d2f-3dac-4a62-971f-77526b008d9f",
     "regions": {
      "05c15f92-66b6-424f-b540-25455db67378": {
       "attrs": {
        "height": 0.8,
        "width": 0.8,
        "x": 0.1,
        "y": 0.1
       },
       "content": {
        "cell": "2a33a7ef-a384-4fd4-8035-a6984e52c44d",
        "part": "whole"
       },
       "id": "05c15f92-66b6-424f-b540-25455db67378"
      }
     }
    },
    "83856ac1-041d-4bed-a739-e8f8e1f291ee": {
     "id": "83856ac1-041d-4bed-a739-e8f8e1f291ee",
     "prev": "774a4d38-c9fd-46fb-9793-350c4bf9beca",
     "regions": {
      "4eefb73f-e46d-490c-ac60-abc61fa02f46": {
       "attrs": {
        "height": 0.8,
        "width": 0.8,
        "x": 0.1,
        "y": 0.1
       },
       "content": {
        "cell": "fe1812c8-43e6-4c29-8e69-7bc069df28e6",
        "part": "whole"
       },
       "id": "4eefb73f-e46d-490c-ac60-abc61fa02f46"
      }
     }
    },
    "89eb8de0-3a14-4780-a5e9-51e50b6b77bb": {
     "id": "89eb8de0-3a14-4780-a5e9-51e50b6b77bb",
     "prev": "ea1a2c7d-b955-4c90-83eb-204db4f2771f",
     "regions": {
      "bb35514f-31f4-4bff-b68d-4fca76f8c715": {
       "attrs": {
        "height": 0.8,
        "width": 0.8,
        "x": 0.1,
        "y": 0.1
       },
       "content": {
        "cell": "6d25260b-3415-4a97-9968-60acea3446f8",
        "part": "whole"
       },
       "id": "bb35514f-31f4-4bff-b68d-4fca76f8c715"
      }
     }
    },
    "8a6a027a-4605-40b2-b795-5fc9b983d9fc": {
     "id": "8a6a027a-4605-40b2-b795-5fc9b983d9fc",
     "prev": "f65738d9-c811-4444-b555-476957ab9301",
     "regions": {
      "f081ac59-16f2-47f0-90e1-17df0ac07304": {
       "attrs": {
        "height": 0.8,
        "width": 0.8,
        "x": 0.1,
        "y": 0.1
       },
       "content": {
        "cell": "2dccdb5f-2227-46f0-b47d-ab0b82257f4a",
        "part": "whole"
       },
       "id": "f081ac59-16f2-47f0-90e1-17df0ac07304"
      }
     }
    },
    "8d0f3fe2-d079-43c3-92c7-9ae44987d75e": {
     "id": "8d0f3fe2-d079-43c3-92c7-9ae44987d75e",
     "prev": "cdf743b5-6a83-4cb1-a567-70bc7c06545e",
     "regions": {
      "69562e6a-ecb3-41ad-90dc-2bd6efa428cf": {
       "attrs": {
        "height": 0.8,
        "width": 0.8,
        "x": 0.1,
        "y": 0.1
       },
       "content": {
        "cell": "4e9a7f64-9277-4e70-9fd8-952aa0168851",
        "part": "whole"
       },
       "id": "69562e6a-ecb3-41ad-90dc-2bd6efa428cf"
      }
     }
    },
    "92a8a8eb-935a-470e-a27b-5fe9e7dc7e1d": {
     "id": "92a8a8eb-935a-470e-a27b-5fe9e7dc7e1d",
     "prev": "d6a48d04-c336-43c5-a6d6-607fe490cd1b",
     "regions": {
      "4f6b2365-767f-4d91-9e91-e270761ac093": {
       "attrs": {
        "height": 0.8,
        "width": 0.8,
        "x": 0.1,
        "y": 0.1
       },
       "content": {
        "cell": "0b1ead30-a350-4e6f-89e3-4433c8c8f501",
        "part": "whole"
       },
       "id": "4f6b2365-767f-4d91-9e91-e270761ac093"
      }
     }
    },
    "9c28a702-b510-49cc-99ec-8c1f01848b28": {
     "id": "9c28a702-b510-49cc-99ec-8c1f01848b28",
     "prev": "78329c99-1e2f-46e0-ac87-be848f800adb",
     "regions": {
      "8760a255-0f24-406a-9b54-569d99a4d383": {
       "attrs": {
        "height": 0.8,
        "width": 0.8,
        "x": 0.1,
        "y": 0.1
       },
       "content": {
        "cell": "8553d3bb-910d-4dd9-bceb-b244a993b1ad",
        "part": "whole"
       },
       "id": "8760a255-0f24-406a-9b54-569d99a4d383"
      }
     }
    },
    "a4b407d2-3003-4f52-98f8-0e25a9b5deba": {
     "id": "a4b407d2-3003-4f52-98f8-0e25a9b5deba",
     "prev": "7d5babdc-cf28-4603-8b54-432fd6064ea1",
     "regions": {
      "1ea22548-3b81-49fd-9b66-9612551ad930": {
       "attrs": {
        "height": 0.8,
        "width": 0.8,
        "x": 0.1,
        "y": 0.1
       },
       "content": {
        "cell": "bf98b9e9-a764-4c76-b2db-f2b42df98283",
        "part": "whole"
       },
       "id": "1ea22548-3b81-49fd-9b66-9612551ad930"
      }
     }
    },
    "a95b048d-555a-4428-b7dd-367c01697de9": {
     "id": "a95b048d-555a-4428-b7dd-367c01697de9",
     "prev": "1ea33a45-f70e-483c-9d46-46ee8b38bfed",
     "regions": {
      "3c931162-8f0f-429c-83e9-00f28ffb1dda": {
       "attrs": {
        "height": 0.8,
        "width": 0.8,
        "x": 0.1,
        "y": 0.1
       },
       "content": {
        "cell": "1fdeab40-440d-436f-b071-6ed498067747",
        "part": "whole"
       },
       "id": "3c931162-8f0f-429c-83e9-00f28ffb1dda"
      }
     }
    },
    "b48df5f5-341c-488c-8eab-18b416223df0": {
     "id": "b48df5f5-341c-488c-8eab-18b416223df0",
     "prev": "47829360-397e-4de5-8aa8-b59dd1be5286",
     "regions": {
      "3c62e426-4874-4bbc-a257-c665a0a5f609": {
       "attrs": {
        "height": 0.8,
        "width": 0.8,
        "x": 0.1,
        "y": 0.1
       },
       "content": {
        "cell": "4920f66c-769b-452d-9840-1fc13268b3a4",
        "part": "whole"
       },
       "id": "3c62e426-4874-4bbc-a257-c665a0a5f609"
      }
     }
    },
    "b7e9fdaa-54ed-4998-b714-80c720064778": {
     "id": "b7e9fdaa-54ed-4998-b714-80c720064778",
     "prev": "c6662d58-0b7f-4a4e-aad3-d7ff0395ef84",
     "regions": {
      "d74e9684-8882-4f66-ac04-fe70b0c724bf": {
       "attrs": {
        "height": 0.8,
        "width": 0.8,
        "x": 0.1,
        "y": 0.1
       },
       "content": {
        "cell": "54b669dc-08c2-48d1-a6ed-108a42ca99f6",
        "part": "whole"
       },
       "id": "d74e9684-8882-4f66-ac04-fe70b0c724bf"
      }
     }
    },
    "b9dddd8b-b24f-4213-9af8-013f6c6b35a9": {
     "id": "b9dddd8b-b24f-4213-9af8-013f6c6b35a9",
     "prev": "b48df5f5-341c-488c-8eab-18b416223df0",
     "regions": {
      "69a5900d-7e1b-4a40-a0c6-8cda3435ce2c": {
       "attrs": {
        "height": 0.8,
        "width": 0.8,
        "x": 0.1,
        "y": 0.1
       },
       "content": {
        "cell": "9de29edf-f003-41ed-a7b4-1a32090afc85",
        "part": "whole"
       },
       "id": "69a5900d-7e1b-4a40-a0c6-8cda3435ce2c"
      }
     }
    },
    "c11ceeaf-537d-4efb-b85d-82f6597243eb": {
     "id": "c11ceeaf-537d-4efb-b85d-82f6597243eb",
     "prev": "a95b048d-555a-4428-b7dd-367c01697de9",
     "regions": {
      "1f486cb7-b869-4a7a-ab5a-15c47fedf2b2": {
       "attrs": {
        "height": 0.8,
        "width": 0.8,
        "x": 0.1,
        "y": 0.1
       },
       "content": {
        "cell": "97fa23e3-3749-4bd9-8ab1-2d27e2643173",
        "part": "whole"
       },
       "id": "1f486cb7-b869-4a7a-ab5a-15c47fedf2b2"
      }
     }
    },
    "c6662d58-0b7f-4a4e-aad3-d7ff0395ef84": {
     "id": "c6662d58-0b7f-4a4e-aad3-d7ff0395ef84",
     "prev": "b9dddd8b-b24f-4213-9af8-013f6c6b35a9",
     "regions": {
      "9b849c75-de96-4b36-8fd9-f71048d38158": {
       "attrs": {
        "height": 0.8,
        "width": 0.8,
        "x": 0.1,
        "y": 0.1
       },
       "content": {
        "cell": "00ae3039-f1e7-4b46-a120-724f9eaa9f3c",
        "part": "whole"
       },
       "id": "9b849c75-de96-4b36-8fd9-f71048d38158"
      }
     }
    },
    "cdf743b5-6a83-4cb1-a567-70bc7c06545e": {
     "id": "cdf743b5-6a83-4cb1-a567-70bc7c06545e",
     "prev": "5336fa08-c263-406a-8eba-38990dd164c9",
     "regions": {
      "88071192-9d3e-40eb-9727-cfaec44b93b6": {
       "attrs": {
        "height": 0.8,
        "width": 0.8,
        "x": 0.1,
        "y": 0.1
       },
       "content": {
        "cell": "2da9ef1f-4678-4120-8265-64fe5702fbe6",
        "part": "whole"
       },
       "id": "88071192-9d3e-40eb-9727-cfaec44b93b6"
      }
     }
    },
    "ce42b972-8009-4718-8853-180e655f1f3e": {
     "id": "ce42b972-8009-4718-8853-180e655f1f3e",
     "prev": "a4b407d2-3003-4f52-98f8-0e25a9b5deba",
     "regions": {
      "ee4a6f96-6bb6-43d1-996f-75fa1953046f": {
       "attrs": {
        "height": 0.8,
        "width": 0.8,
        "x": 0.1,
        "y": 0.1
       },
       "content": {
        "cell": "32d289f9-aca6-4732-97f4-d8615dad9e6d",
        "part": "whole"
       },
       "id": "ee4a6f96-6bb6-43d1-996f-75fa1953046f"
      }
     }
    },
    "cfafa40f-3b05-43a2-acd0-e869a3f729a7": {
     "id": "cfafa40f-3b05-43a2-acd0-e869a3f729a7",
     "prev": "0f1a102e-fedf-46da-a136-1056784dda70",
     "regions": {
      "f88e148c-8eb7-4b3b-93ba-9e7b0e8bc5dc": {
       "attrs": {
        "height": 0.8,
        "width": 0.8,
        "x": 0.1,
        "y": 0.1
       },
       "content": {
        "cell": "c6bcf3cd-fa41-4897-95be-cbb8059ff37c",
        "part": "whole"
       },
       "id": "f88e148c-8eb7-4b3b-93ba-9e7b0e8bc5dc"
      }
     }
    },
    "d6a48d04-c336-43c5-a6d6-607fe490cd1b": {
     "id": "d6a48d04-c336-43c5-a6d6-607fe490cd1b",
     "prev": "dc6182d4-4500-48c3-90a2-a1935cca3995",
     "regions": {
      "784c19b7-dafb-481b-b660-3096df96b069": {
       "attrs": {
        "height": 0.8,
        "width": 0.8,
        "x": 0.1,
        "y": 0.1
       },
       "content": {
        "cell": "f64d2305-8a44-4849-9278-44656d906eaf",
        "part": "whole"
       },
       "id": "784c19b7-dafb-481b-b660-3096df96b069"
      }
     }
    },
    "dc6182d4-4500-48c3-90a2-a1935cca3995": {
     "id": "dc6182d4-4500-48c3-90a2-a1935cca3995",
     "prev": "8a6a027a-4605-40b2-b795-5fc9b983d9fc",
     "regions": {
      "81d5d9ae-c559-4fa2-806c-d7e04feb2a62": {
       "attrs": {
        "height": 0.8,
        "width": 0.8,
        "x": 0.1,
        "y": 0.1
       },
       "content": {
        "cell": "575eec95-392c-4108-85ba-1c406c7fa79d",
        "part": "whole"
       },
       "id": "81d5d9ae-c559-4fa2-806c-d7e04feb2a62"
      }
     }
    },
    "ea1a2c7d-b955-4c90-83eb-204db4f2771f": {
     "id": "ea1a2c7d-b955-4c90-83eb-204db4f2771f",
     "prev": "ce42b972-8009-4718-8853-180e655f1f3e",
     "regions": {
      "4b8fdba1-348b-4128-8e86-6ba13a9c3cf6": {
       "attrs": {
        "height": 0.8,
        "width": 0.8,
        "x": 0.1,
        "y": 0.1
       },
       "content": {
        "cell": "77dc90ce-8847-4893-bad0-54bceba40361",
        "part": "whole"
       },
       "id": "4b8fdba1-348b-4128-8e86-6ba13a9c3cf6"
      }
     }
    },
    "f456fd11-9886-4cbb-808c-39bc8995c718": {
     "id": "f456fd11-9886-4cbb-808c-39bc8995c718",
     "prev": "c11ceeaf-537d-4efb-b85d-82f6597243eb",
     "regions": {
      "e45dafa9-6f83-4bcc-90f5-3d19452beed6": {
       "attrs": {
        "height": 0.8,
        "width": 0.8,
        "x": 0.1,
        "y": 0.1
       },
       "content": {
        "cell": "f0910fc3-16b6-4532-9f5d-86a532834f0b",
        "part": "whole"
       },
       "id": "e45dafa9-6f83-4bcc-90f5-3d19452beed6"
      }
     }
    },
    "f65738d9-c811-4444-b555-476957ab9301": {
     "id": "f65738d9-c811-4444-b555-476957ab9301",
     "prev": "26a6da80-b09e-47c2-b36c-634f3e4c57df",
     "regions": {
      "8a47fb48-896a-4d10-a2cc-db09123dd0fa": {
       "attrs": {
        "height": 0.8,
        "width": 0.8,
        "x": 0.1,
        "y": 0.1
       },
       "content": {
        "cell": "9d14510b-8a6d-4619-8e80-07e122465b17",
        "part": "whole"
       },
       "id": "8a47fb48-896a-4d10-a2cc-db09123dd0fa"
      }
     }
    }
   },
   "themes": {}
  }
 },
 "nbformat": 4,
 "nbformat_minor": 1
}
